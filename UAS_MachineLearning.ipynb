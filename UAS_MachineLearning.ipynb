{
  "nbformat": 4,
  "nbformat_minor": 0,
  "metadata": {
    "colab": {
      "provenance": [],
      "authorship_tag": "ABX9TyOJKpJfBGGZn41na7BpWBgq",
      "include_colab_link": true
    },
    "kernelspec": {
      "name": "python3",
      "display_name": "Python 3"
    },
    "language_info": {
      "name": "python"
    }
  },
  "cells": [
    {
      "cell_type": "markdown",
      "metadata": {
        "id": "view-in-github",
        "colab_type": "text"
      },
      "source": [
        "<a href=\"https://colab.research.google.com/github/SnapeSnoop/UAS_MachineLearning_IrfanPurwo_EkaMahendraB/blob/main/UAS_MachineLearning.ipynb\" target=\"_parent\"><img src=\"https://colab.research.google.com/assets/colab-badge.svg\" alt=\"Open In Colab\"/></a>"
      ]
    },
    {
      "cell_type": "markdown",
      "source": [
        "###Klasifikasi Jenis Perumahan Menggunakan Metode Decision Tree\n",
        "- Nama  Kelompok : \n",
        "                  - Eka Mahendra Bagaskara\n",
        "                  - 2241727009\n",
        "                  - Irfan Purwo \n",
        "                  - 22417271017\n",
        "- Kelas          : 4-J\n",
        "                  \n"
      ],
      "metadata": {
        "id": "zuo-IrkeB0v0"
      }
    },
    {
      "cell_type": "code",
      "source": [
        "import numpy as np\n",
        "import pandas as pd\n",
        "import matplotlib.pyplot as plt\n",
        "from sklearn.tree import DecisionTreeClassifier\n",
        "from sklearn.model_selection import train_test_split\n",
        "from sklearn.metrics import accuracy_score, classification_report"
      ],
      "metadata": {
        "id": "i2GwsnjVCE-N"
      },
      "execution_count": null,
      "outputs": []
    },
    {
      "cell_type": "markdown",
      "source": [
        "###Preporcess"
      ],
      "metadata": {
        "id": "1TcvCLRI6jK7"
      }
    },
    {
      "cell_type": "code",
      "source": [
        "from google.colab import drive\n",
        "drive.mount('/content/drive')"
      ],
      "metadata": {
        "colab": {
          "base_uri": "https://localhost:8080/"
        },
        "id": "8aZl78i4CNxi",
        "outputId": "45ca2acc-2ddf-4da9-f9ef-431ebdc87df4"
      },
      "execution_count": null,
      "outputs": [
        {
          "output_type": "stream",
          "name": "stdout",
          "text": [
            "Mounted at /content/drive\n"
          ]
        }
      ]
    },
    {
      "cell_type": "code",
      "source": [
        "data = pd.read_csv('/content/drive/MyDrive/Colab Notebooks/dataset_rumah.csv')\n",
        "data.head()"
      ],
      "metadata": {
        "colab": {
          "base_uri": "https://localhost:8080/",
          "height": 206
        },
        "id": "4ahNmPvwCabV",
        "outputId": "72434e76-fe46-4b79-fd1a-fa1500a31d8c"
      },
      "execution_count": null,
      "outputs": [
        {
          "output_type": "execute_result",
          "data": {
            "text/plain": [
              "      Tipe  Luas Tanah  Luas Bangunan      Harga    Jenis\n",
              "0   Seruni          70             36  350000000  Standar\n",
              "1     Lily          75             39  400000000  Standar\n",
              "2  Anggrek          87             47  450000000  Standar\n",
              "3  Cendana          90             49  500000000   Medium\n",
              "4    Tulip         105             54  600000000   Medium"
            ],
            "text/html": [
              "\n",
              "  <div id=\"df-c6dd7a15-d526-4bef-b24e-be269f6997e9\">\n",
              "    <div class=\"colab-df-container\">\n",
              "      <div>\n",
              "<style scoped>\n",
              "    .dataframe tbody tr th:only-of-type {\n",
              "        vertical-align: middle;\n",
              "    }\n",
              "\n",
              "    .dataframe tbody tr th {\n",
              "        vertical-align: top;\n",
              "    }\n",
              "\n",
              "    .dataframe thead th {\n",
              "        text-align: right;\n",
              "    }\n",
              "</style>\n",
              "<table border=\"1\" class=\"dataframe\">\n",
              "  <thead>\n",
              "    <tr style=\"text-align: right;\">\n",
              "      <th></th>\n",
              "      <th>Tipe</th>\n",
              "      <th>Luas Tanah</th>\n",
              "      <th>Luas Bangunan</th>\n",
              "      <th>Harga</th>\n",
              "      <th>Jenis</th>\n",
              "    </tr>\n",
              "  </thead>\n",
              "  <tbody>\n",
              "    <tr>\n",
              "      <th>0</th>\n",
              "      <td>Seruni</td>\n",
              "      <td>70</td>\n",
              "      <td>36</td>\n",
              "      <td>350000000</td>\n",
              "      <td>Standar</td>\n",
              "    </tr>\n",
              "    <tr>\n",
              "      <th>1</th>\n",
              "      <td>Lily</td>\n",
              "      <td>75</td>\n",
              "      <td>39</td>\n",
              "      <td>400000000</td>\n",
              "      <td>Standar</td>\n",
              "    </tr>\n",
              "    <tr>\n",
              "      <th>2</th>\n",
              "      <td>Anggrek</td>\n",
              "      <td>87</td>\n",
              "      <td>47</td>\n",
              "      <td>450000000</td>\n",
              "      <td>Standar</td>\n",
              "    </tr>\n",
              "    <tr>\n",
              "      <th>3</th>\n",
              "      <td>Cendana</td>\n",
              "      <td>90</td>\n",
              "      <td>49</td>\n",
              "      <td>500000000</td>\n",
              "      <td>Medium</td>\n",
              "    </tr>\n",
              "    <tr>\n",
              "      <th>4</th>\n",
              "      <td>Tulip</td>\n",
              "      <td>105</td>\n",
              "      <td>54</td>\n",
              "      <td>600000000</td>\n",
              "      <td>Medium</td>\n",
              "    </tr>\n",
              "  </tbody>\n",
              "</table>\n",
              "</div>\n",
              "      <button class=\"colab-df-convert\" onclick=\"convertToInteractive('df-c6dd7a15-d526-4bef-b24e-be269f6997e9')\"\n",
              "              title=\"Convert this dataframe to an interactive table.\"\n",
              "              style=\"display:none;\">\n",
              "        \n",
              "  <svg xmlns=\"http://www.w3.org/2000/svg\" height=\"24px\"viewBox=\"0 0 24 24\"\n",
              "       width=\"24px\">\n",
              "    <path d=\"M0 0h24v24H0V0z\" fill=\"none\"/>\n",
              "    <path d=\"M18.56 5.44l.94 2.06.94-2.06 2.06-.94-2.06-.94-.94-2.06-.94 2.06-2.06.94zm-11 1L8.5 8.5l.94-2.06 2.06-.94-2.06-.94L8.5 2.5l-.94 2.06-2.06.94zm10 10l.94 2.06.94-2.06 2.06-.94-2.06-.94-.94-2.06-.94 2.06-2.06.94z\"/><path d=\"M17.41 7.96l-1.37-1.37c-.4-.4-.92-.59-1.43-.59-.52 0-1.04.2-1.43.59L10.3 9.45l-7.72 7.72c-.78.78-.78 2.05 0 2.83L4 21.41c.39.39.9.59 1.41.59.51 0 1.02-.2 1.41-.59l7.78-7.78 2.81-2.81c.8-.78.8-2.07 0-2.86zM5.41 20L4 18.59l7.72-7.72 1.47 1.35L5.41 20z\"/>\n",
              "  </svg>\n",
              "      </button>\n",
              "      \n",
              "  <style>\n",
              "    .colab-df-container {\n",
              "      display:flex;\n",
              "      flex-wrap:wrap;\n",
              "      gap: 12px;\n",
              "    }\n",
              "\n",
              "    .colab-df-convert {\n",
              "      background-color: #E8F0FE;\n",
              "      border: none;\n",
              "      border-radius: 50%;\n",
              "      cursor: pointer;\n",
              "      display: none;\n",
              "      fill: #1967D2;\n",
              "      height: 32px;\n",
              "      padding: 0 0 0 0;\n",
              "      width: 32px;\n",
              "    }\n",
              "\n",
              "    .colab-df-convert:hover {\n",
              "      background-color: #E2EBFA;\n",
              "      box-shadow: 0px 1px 2px rgba(60, 64, 67, 0.3), 0px 1px 3px 1px rgba(60, 64, 67, 0.15);\n",
              "      fill: #174EA6;\n",
              "    }\n",
              "\n",
              "    [theme=dark] .colab-df-convert {\n",
              "      background-color: #3B4455;\n",
              "      fill: #D2E3FC;\n",
              "    }\n",
              "\n",
              "    [theme=dark] .colab-df-convert:hover {\n",
              "      background-color: #434B5C;\n",
              "      box-shadow: 0px 1px 3px 1px rgba(0, 0, 0, 0.15);\n",
              "      filter: drop-shadow(0px 1px 2px rgba(0, 0, 0, 0.3));\n",
              "      fill: #FFFFFF;\n",
              "    }\n",
              "  </style>\n",
              "\n",
              "      <script>\n",
              "        const buttonEl =\n",
              "          document.querySelector('#df-c6dd7a15-d526-4bef-b24e-be269f6997e9 button.colab-df-convert');\n",
              "        buttonEl.style.display =\n",
              "          google.colab.kernel.accessAllowed ? 'block' : 'none';\n",
              "\n",
              "        async function convertToInteractive(key) {\n",
              "          const element = document.querySelector('#df-c6dd7a15-d526-4bef-b24e-be269f6997e9');\n",
              "          const dataTable =\n",
              "            await google.colab.kernel.invokeFunction('convertToInteractive',\n",
              "                                                     [key], {});\n",
              "          if (!dataTable) return;\n",
              "\n",
              "          const docLinkHtml = 'Like what you see? Visit the ' +\n",
              "            '<a target=\"_blank\" href=https://colab.research.google.com/notebooks/data_table.ipynb>data table notebook</a>'\n",
              "            + ' to learn more about interactive tables.';\n",
              "          element.innerHTML = '';\n",
              "          dataTable['output_type'] = 'display_data';\n",
              "          await google.colab.output.renderOutput(dataTable, element);\n",
              "          const docLink = document.createElement('div');\n",
              "          docLink.innerHTML = docLinkHtml;\n",
              "          element.appendChild(docLink);\n",
              "        }\n",
              "      </script>\n",
              "    </div>\n",
              "  </div>\n",
              "  "
            ]
          },
          "metadata": {},
          "execution_count": 4
        }
      ]
    },
    {
      "cell_type": "code",
      "source": [
        "data.dtypes"
      ],
      "metadata": {
        "colab": {
          "base_uri": "https://localhost:8080/"
        },
        "id": "e0B33_aaCrnt",
        "outputId": "8e4cb5bf-2a3a-44ad-a0fa-1b8a26aae6b4"
      },
      "execution_count": null,
      "outputs": [
        {
          "output_type": "execute_result",
          "data": {
            "text/plain": [
              "Tipe             object\n",
              "Luas Tanah        int64\n",
              "Luas Bangunan     int64\n",
              "Harga             int64\n",
              "Jenis            object\n",
              "dtype: object"
            ]
          },
          "metadata": {},
          "execution_count": 5
        }
      ]
    },
    {
      "cell_type": "markdown",
      "source": [
        "##Training Data\n",
        "Menggunakan 3 variable x dan 1 variable y"
      ],
      "metadata": {
        "id": "qfIiH5Kc_LbU"
      }
    },
    {
      "cell_type": "code",
      "source": [
        "from numpy.core.arrayprint import format_float_positional\n",
        "y = data['Jenis'].map({'Standar':1, 'Medium':2, 'Premium':0})\n",
        "X1 = data['Luas Tanah']\n",
        "X2 = data['Luas Bangunan']\n",
        "X3 = data['Harga']\n",
        "\n",
        "v1=[]\n",
        "v2=[]\n",
        "v3=[]\n",
        "for x1 in X1:\n",
        "  v1.append(x1)\n",
        "for x2 in X2:\n",
        "  v2.append(x2)\n",
        "for x3 in X3:\n",
        "  v3.append(x3)\n",
        "format_float_positional\n",
        "\n",
        "X = pd.DataFrame()\n",
        "\n",
        "X['Luas Tanah'] = v1\n",
        "X['Luas Bangunan'] = v2\n",
        "X['Harga'] = v3\n",
        "print(X)"
      ],
      "metadata": {
        "colab": {
          "base_uri": "https://localhost:8080/"
        },
        "id": "XXJCBI_QDMBd",
        "outputId": "c80a7006-e5c8-4b34-db13-1338f88fda1c"
      },
      "execution_count": null,
      "outputs": [
        {
          "output_type": "stream",
          "name": "stdout",
          "text": [
            "    Luas Tanah  Luas Bangunan      Harga\n",
            "0           70             36  350000000\n",
            "1           75             39  400000000\n",
            "2           87             47  450000000\n",
            "3           90             49  500000000\n",
            "4          105             54  600000000\n",
            "5           54             54  750000000\n",
            "6           75             36  300000000\n",
            "7           87             36  400000000\n",
            "8          105             36  450000000\n",
            "9           90             36  425000000\n",
            "10         105             36  475000000\n",
            "11          93             36  500000000\n",
            "12          54             54  800000000\n",
            "13          90             36  575000000\n",
            "14          88             39  500000000\n",
            "15         105             39  625000000\n",
            "16          90             47  600000000\n",
            "17          60             49  700000000\n",
            "18          72             60  800000000\n",
            "19          90             60  820000000\n",
            "20          90             70  850000000\n",
            "21         105             70  880000000\n",
            "22         130            120  900000000\n",
            "23         145            120  950000000\n"
          ]
        }
      ]
    },
    {
      "cell_type": "code",
      "source": [
        "from sklearn.model_selection import train_test_split\n",
        "\n",
        "X_train, X_test, y_train, y_test = train_test_split(X, y, test_size=0.3, random_state=1, shuffle=True)"
      ],
      "metadata": {
        "id": "DrQkPCG_Drnj"
      },
      "execution_count": null,
      "outputs": []
    },
    {
      "cell_type": "markdown",
      "source": [
        "### Evaluasi classification tree\n",
        "Mengevaluasi kinerjanya pada set pengujian. yang akan  menggunakan metrik akurasi yang sesuai dengan fraksi prediksi yang benar dan dibuat pada set pengujian."
      ],
      "metadata": {
        "id": "0YXcs8Gg699h"
      }
    },
    {
      "cell_type": "code",
      "source": [
        "dt = DecisionTreeClassifier()\n",
        "\n",
        "dt.fit(X_train, y_train)\n",
        "\n",
        "y_pred_dt = dt.predict(X_test)\n",
        "\n",
        "acc_dt = accuracy_score(y_test, y_pred_dt)\n",
        "print(\"Test set accuracy: {:.2f}\".format(acc_dt))\n",
        "print(f\"Test set accuracy: {acc_dt}\") "
      ],
      "metadata": {
        "colab": {
          "base_uri": "https://localhost:8080/"
        },
        "id": "J9qDfU5JF5nv",
        "outputId": "886403cb-fe95-4634-d9bf-a5b3548c0388"
      },
      "execution_count": null,
      "outputs": [
        {
          "output_type": "stream",
          "name": "stdout",
          "text": [
            "Test set accuracy: 0.62\n",
            "Test set accuracy: 0.625\n"
          ]
        }
      ]
    },
    {
      "cell_type": "markdown",
      "source": [
        "###Gini Dan Entropy"
      ],
      "metadata": {
        "id": "lLAEuvZB8gLR"
      }
    },
    {
      "cell_type": "code",
      "source": [
        "from sklearn.tree import DecisionTreeClassifier\n",
        "\n",
        "dt_entropy = DecisionTreeClassifier(max_depth=8, criterion='entropy', random_state=1)\n",
        "\n",
        "dt_entropy.fit(X_train, y_train)"
      ],
      "metadata": {
        "colab": {
          "base_uri": "https://localhost:8080/"
        },
        "id": "CVx13hKBF9Vo",
        "outputId": "49b33480-3a41-4203-a371-aacb13f0b3b9"
      },
      "execution_count": null,
      "outputs": [
        {
          "output_type": "execute_result",
          "data": {
            "text/plain": [
              "DecisionTreeClassifier(criterion='entropy', max_depth=8, random_state=1)"
            ]
          },
          "metadata": {},
          "execution_count": 67
        }
      ]
    },
    {
      "cell_type": "code",
      "source": [
        "dt_gini = DecisionTreeClassifier(max_depth=8, criterion='gini', random_state=1)\n",
        "dt_gini.fit(X_train, y_train)"
      ],
      "metadata": {
        "colab": {
          "base_uri": "https://localhost:8080/"
        },
        "id": "iloRut8KHDAA",
        "outputId": "bbb853cb-b99c-4718-b835-eda4c8f55985"
      },
      "execution_count": null,
      "outputs": [
        {
          "output_type": "execute_result",
          "data": {
            "text/plain": [
              "DecisionTreeClassifier(max_depth=8, random_state=1)"
            ]
          },
          "metadata": {},
          "execution_count": 68
        }
      ]
    },
    {
      "cell_type": "code",
      "source": [
        "from sklearn.metrics import accuracy_score\n",
        "y_pred = dt_entropy.predict(X_test)\n",
        "y_pred_gini = dt_gini.predict(X_test)\n",
        "\n",
        "accuracy_entropy = accuracy_score(y_test, y_pred)\n",
        "accuracy_gini = accuracy_score(y_test, y_pred_gini)\n",
        "\n",
        "# Print accuracy_entropy\n",
        "print(\"Accuracy achieved by using entropy: \", accuracy_entropy)\n",
        "\n",
        "# Print accuracy_gini\n",
        "print(\"Accuracy achieved by using gini: \", accuracy_gini)"
      ],
      "metadata": {
        "colab": {
          "base_uri": "https://localhost:8080/"
        },
        "id": "8gWhRYvfHEPv",
        "outputId": "c3b02aa8-7836-4124-95b1-8797a90ab7a5"
      },
      "execution_count": null,
      "outputs": [
        {
          "output_type": "stream",
          "name": "stdout",
          "text": [
            "Accuracy achieved by using entropy:  0.625\n",
            "Accuracy achieved by using gini:  0.625\n"
          ]
        }
      ]
    },
    {
      "cell_type": "markdown",
      "source": [
        "###Training Menggunakan Regression Tree"
      ],
      "metadata": {
        "id": "rr8zMIovD6MN"
      }
    },
    {
      "cell_type": "code",
      "source": [
        "from sklearn.tree import DecisionTreeRegressor\n",
        "\n",
        "# Instantiate dt\n",
        "dt = DecisionTreeRegressor(max_depth=8, min_samples_leaf=0.3, random_state=10)\n",
        "\n",
        "# Fit dt kedalam the training set\n",
        "dt.fit(X_train, y_train)"
      ],
      "metadata": {
        "colab": {
          "base_uri": "https://localhost:8080/"
        },
        "id": "_CdqjYKmZP7c",
        "outputId": "20f7c7b2-c0bb-4c89-bf7c-08aa5bc9ff9e"
      },
      "execution_count": null,
      "outputs": [
        {
          "output_type": "execute_result",
          "data": {
            "text/plain": [
              "DecisionTreeRegressor(max_depth=8, min_samples_leaf=0.3, random_state=10)"
            ]
          },
          "metadata": {},
          "execution_count": 48
        }
      ]
    },
    {
      "cell_type": "markdown",
      "source": [
        "### Evaluasi Regression Tree"
      ],
      "metadata": {
        "id": "L593Tq_qEUTj"
      }
    },
    {
      "cell_type": "code",
      "source": [
        "from sklearn.metrics import mean_squared_error\n",
        "\n",
        "y_pred = dt.predict(X_test)\n",
        "\n",
        "mse_dt = mean_squared_error(y_test, y_pred)\n",
        "\n",
        "# Compute rmse_dt\n",
        "rmse_dt = mse_dt ** (1/2)\n",
        "\n",
        "# Print rmse_dt\n",
        "print(\"Test set RMSE dt: {:.2f}\".format(rmse_dt))"
      ],
      "metadata": {
        "colab": {
          "base_uri": "https://localhost:8080/"
        },
        "id": "QFFW84BMZwQ-",
        "outputId": "c8c7ec28-9d8f-4b8a-be41-6096ed1359b1"
      },
      "execution_count": null,
      "outputs": [
        {
          "output_type": "stream",
          "name": "stdout",
          "text": [
            "Test set RMSE dt: 0.66\n"
          ]
        }
      ]
    },
    {
      "cell_type": "markdown",
      "source": [
        "###Training dengan Linear Regression"
      ],
      "metadata": {
        "id": "NQ8HPtiTEoow"
      }
    },
    {
      "cell_type": "code",
      "source": [
        "from sklearn.linear_model import LinearRegression\n",
        "\n",
        "lr = LinearRegression()\n",
        "\n",
        "lr.fit(X_train, y_train)"
      ],
      "metadata": {
        "colab": {
          "base_uri": "https://localhost:8080/"
        },
        "id": "BA1WK0gRZ2xj",
        "outputId": "82461cae-1eb1-4482-daa0-5166e70838fc"
      },
      "execution_count": null,
      "outputs": [
        {
          "output_type": "execute_result",
          "data": {
            "text/plain": [
              "LinearRegression()"
            ]
          },
          "metadata": {},
          "execution_count": 50
        }
      ]
    },
    {
      "cell_type": "markdown",
      "source": [
        "###Testing Regression Tree dengan Linear Regression Tree"
      ],
      "metadata": {
        "id": "4BZi739FEboG"
      }
    },
    {
      "cell_type": "code",
      "source": [
        "y_pred_lr = lr.predict(X_test)\n",
        "\n",
        "mse_lr = mean_squared_error(y_test, y_pred_lr)\n",
        "\n",
        "rmse_lr = mse_lr ** 0.5\n",
        "\n",
        "print(\"Linear Regression test set RMSE: {:.2f}\".format(rmse_lr))\n",
        "\n",
        "print(\"Regression Tree test set RMSE: {:.2f}\".format(rmse_dt))"
      ],
      "metadata": {
        "colab": {
          "base_uri": "https://localhost:8080/"
        },
        "id": "8nAuzRI3Z4GF",
        "outputId": "d01c767b-d26f-47ec-872f-29d5b7378914"
      },
      "execution_count": null,
      "outputs": [
        {
          "output_type": "stream",
          "name": "stdout",
          "text": [
            "Linear Regression test set RMSE: 0.29\n",
            "Regression Tree test set RMSE: 0.66\n"
          ]
        }
      ]
    }
  ]
}